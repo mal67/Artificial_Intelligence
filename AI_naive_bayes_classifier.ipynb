{
 "cells": [
  {
   "cell_type": "markdown",
   "metadata": {},
   "source": [
    "# Part 1: Spam or ham? (45 marks)\n",
    "\n",
    "In the spam literature, an email that is **not** spam is called _ham_. \n",
    "\n",
    "Your task is to develop a Naive Bayes classifier to determine whether a given email is spam or ham."
   ]
  },
  {
   "cell_type": "markdown",
   "metadata": {},
   "source": [
    "## The data: Spam!\n",
    "\n",
    "The following cell loads your training data set (called _training set_)."
   ]
  },
  {
   "cell_type": "code",
   "execution_count": 9,
   "metadata": {},
   "outputs": [
    {
     "name": "stdout",
     "output_type": "stream",
     "text": [
      "Shape of the spam training data set: (1000, 55)\n",
      "[[ 1.  0.  0. ...,  0.  0.  0.]\n",
      " [ 0.  0.  1. ...,  1.  0.  0.]\n",
      " [ 0.  0.  0. ...,  1.  0.  0.]\n",
      " ..., \n",
      " [ 0.  0.  0. ...,  0.  0.  1.]\n",
      " [ 1.  1.  1. ...,  1.  1.  0.]\n",
      " [ 1.  0.  0. ...,  1.  1.  1.]]\n"
     ]
    }
   ],
   "source": [
    "import numpy as np\n",
    "\n",
    "training_spam = np.loadtxt(open(\"data/training_spam.csv\"), delimiter=\",\")\n",
    "print(\"Shape of the spam training data set:\", training_spam.shape)\n",
    "print(training_spam)"
   ]
  },
  {
   "cell_type": "markdown",
   "metadata": {},
   "source": [
    "Your training set consists of 1000 rows and 55 columns. Each row corresponds to one email message. The first column is the _response_ variable and describes whether a message is spam (1) or ham (0). The remaining 54 columns are _features_ that you will use to build a classifier. These features correspond to 54 different keywords (such as \"money\", \"free\", and \"receive\") and special characters (such as \":\", \"!\", and \"$\"). A feature has the value \"1\" if the keyword appears in the message and \"0\" otherwise."
   ]
  },
  {
   "cell_type": "markdown",
   "metadata": {},
   "source": [
    "## The model:  Naïve Bayes\n",
    "Your [naïve Bayes](https://en.wikipedia.org/wiki/Naive_Bayes_classifier) classifier will distinguish between two classes:\n",
    "\n",
    "* **$C = 1$ for spam messages **\n",
    "* **$C = 0$ for ham messages. **\n",
    "\n",
    "\n",
    "The classifier builds a model for the probability $P(C=c\\ |\\ message)$ that a given message belongs to a certain class. A new message is then classified based on the Bayesian *maximum a posteriori* estimate\n",
    "\n",
    "\\begin{equation}\n",
    "\\hat{c} = \\underset{c \\in \\{0,1\\}}{argmax} \\  P(C=c\\ |\\ message).\n",
    "\\end{equation}\n",
    "\n",
    "Using Bayes' rule we can write\n",
    "\n",
    "\\begin{equation}\n",
    "P(C=c\\ |\\ message) = \\frac{P(message\\ |\\ C=c)P(C=c)}{P(message\\ |\\ C=1)P(C=1) + P(message\\ |\\ C=0)P(C=0)}.  \\quad \\quad \n",
    "\\end{equation}\n",
    "\n",
    "The denominator is the same for both classes and we can thus drop it to get\n",
    "\n",
    "\\begin{equation}\n",
    "P(C=c\\ |\\ message) \\propto P(message\\ |\\ C=c)P(C=c).\n",
    "\\end{equation}\n",
    "\n",
    "\n",
    "We represent a message using a binary [bag-of-words](https://en.wikipedia.org/wiki/Bag-of-words_model) model. Specifically, a message is represented as $\\mathbf{w} = (w_1, ..., w_k)$, where $w_i = 1$ if the word $w_i$ appears in the message and $w_i = 0$ otherwise. We assume **class-conditional independence between occurences of known words** and can therefore write \n",
    "\n",
    "\\begin{equation}\n",
    "P(message\\ |\\ C=c) = \\prod_{i = 1}^k P(w_i\\ |\\ C=c).\n",
    "\\end{equation}\n",
    "\n",
    "The classifier now can be written as follows :\n",
    "\n",
    "\\begin{equation}\n",
    "\\hat{c} = \\underset{c \\in \\{0,1\\}}{argmax} \\ [ P(C=c)   \\prod_{i = 1}^k P(w_i\\ |\\ C=c) ].\n",
    "\\end{equation}\n",
    "\n",
    "\n",
    "### Multinomial Naïve Bayes\n",
    "\n",
    "Different naïve Bayes models differ in their distributional assumptions of $P(w\\ |\\ C=c)$, that is, the conditional likelihood of a word $w$ given a class $c$. We will model $P(w\\ |\\ C=c)$ using a [multinomial distribution](https://en.wikipedia.org/wiki/Multinomial_distribution). Intuitively, the multinomial distribution assumes that the words of a message are \"drawn\" independently from a bag of $k$ different keywords. Depending on the class membership $c$, each keyword has a probability $\\theta_{class, word}$ of being drawn. For example,\n",
    "\n",
    "* $\\theta_{spam, w}$ will have high value for $w \\in \\{$bank, transfer, buy, viagra... $\\}$.\n",
    "* $\\theta_{ham, w}$ will have high value for $w \\in \\{$paper, conference, proposal, experiment... $\\}$, if the training data was mostly gathered from emails of researchers.\n",
    "\n",
    "Both the class priors $P(C=c)$ and the class-conditional likelihoods $\\theta_{c, w} = P(w\\ |\\ C=c)$ have to be estimated from the training data. The parameters $\\theta_{c, w}$ are estimated by counting the relative frequencies in the training data. Use **Laplace-smoothing** with $\\alpha = 1$, that is,\n",
    "\n",
    "\\begin{equation}\n",
    "\\theta_{c, w} = \\frac{n_{c, w} + \\alpha}{n_{c} + k \\alpha},\n",
    "\\end{equation}\n",
    "\n",
    "where $n_{c, w}$ is the number of times the word $w$ appears in messages of class $c$ in the training set, $n_{c}$ is the total count of words for all messages of class $c$, and $k$ is the number of features (key-words).\n",
    "\n",
    "The likelihood of observing $\\mathbf{w}$ in a message of class $c$ is proportional to\n",
    "\\begin{equation}\n",
    "P(\\mathbf{w}\\ |\\ C=c) \\propto \\prod_{i = 1}^k  (\\theta_{c, i})^{w_i}.\n",
    "\\end{equation}\n",
    "\n",
    "### Increasing numerical stability\n",
    "We can increase the numerical stability of the algorithm by taking logarithms of the posterior distributions, that is,\n",
    "\\begin{equation}\n",
    "\\hat{c} = \\underset{c \\in \\{0,1\\}}{argmax} \\ log( P(C=c)   \\prod_{i = 1}^k P(w_i\\ |\\ C=c) ) \\\\\n",
    " = \\underset{c \\in \\{0,1\\}}{argmax} \\ [ log( P(C=c)) + \\sum_{i = 1}^k w_i \\ log(\\theta_{c, i}) ].\n",
    "\\end{equation}\n",
    "\n",
    "You will implement this more stable version of the algorithm in developing your classifier. "
   ]
  },
  {
   "cell_type": "markdown",
   "metadata": {},
   "source": [
    "## Part 1A: Estimate class priors (10 marks)\n",
    "\n",
    "Define a function called `estimate_log_class_priors()` that takes as input a data set with binary response variable (0s and 1s) in the left-most column and returns a numpy array containing the **the logarithm** of the empirical class priors $P(C=c)$ for $c \\in \\{0, 1\\}$."
   ]
  },
  {
   "cell_type": "code",
   "execution_count": 10,
   "metadata": {
    "collapsed": true,
    "deletable": false,
    "nbgrader": {
     "checksum": "508e5de25816a015e44a26b186d9ec48",
     "grade": false,
     "grade_id": "cell-f2d751b4a9e29087",
     "locked": false,
     "schema_version": 1,
     "solution": true
    }
   },
   "outputs": [],
   "source": [
    "def estimate_log_class_priors(data):\n",
    "    \"\"\"\n",
    "    Given a data set with binary response variable (0s and 1s) in the\n",
    "    left-most column, calculate the logarithm of the empirical class priors,\n",
    "    that is, the logarithm of the proportions of 0s and 1s:\n",
    "    log(P(C=0)) and log(P(C=1))\n",
    "\n",
    "    :param data: a two-dimensional numpy-array with shape = [n_samples, 1 + n_features]\n",
    "                 the first column contains the binary response (coded as 0s and 1s).\n",
    "\n",
    "    :return log_class_priors: a numpy array of length two\n",
    "    \"\"\"\n",
    "    \n",
    "    response_variable = data[:,0]           #get the left-most column to the varable 'response_variable'\n",
    "    total_n = len(response_variable)        #get the total number of message samples\n",
    "    \n",
    "    num_ones = (response_variable == 1).sum()  # the total number of spam(1)\n",
    "    num_zeros = (response_variable == 0).sum() # the total number of ham(0)\n",
    "    \n",
    "    p_c_1 = num_ones/total_n   # (P(C=1))\n",
    "    p_c_0 = num_zeros/total_n  # (P(C=0))\n",
    "    \n",
    "    log_class_priors = np.array([np.log(p_c_1), np.log(p_c_0)]) # [log(P(C=1)), log(P(C=0))]\n",
    "    \n",
    "    return log_class_priors   # [log(P(C=1)), log(P(C=0))]"
   ]
  },
  {
   "cell_type": "code",
   "execution_count": 11,
   "metadata": {
    "deletable": false,
    "editable": false,
    "nbgrader": {
     "checksum": "94068b6b48e3efb516a1e04893b681c4",
     "grade": true,
     "grade_id": "cell-15a7409a814b361a",
     "locked": true,
     "points": 10,
     "schema_version": 1,
     "solution": false
    }
   },
   "outputs": [
    {
     "name": "stdout",
     "output_type": "stream",
     "text": [
      "result [-0.94933059 -0.48939034]\n"
     ]
    }
   ],
   "source": [
    "# This is a test cell. Do not delete or change. \n",
    "# You can use this cell to check whether the returned objects of your function are of the right data type.\n",
    "log_class_priors = estimate_log_class_priors(training_spam)\n",
    "print(\"result\", log_class_priors)\n",
    "\n",
    "# Check length\n",
    "assert(len(log_class_priors) == 2)\n",
    "\n",
    "# Check whether the returned object is a numpy.ndarray\n",
    "assert(isinstance(log_class_priors, np.ndarray))\n",
    "\n",
    "# Check wehther the values of this numpy.array are floats.\n",
    "assert(log_class_priors.dtype == float)\n"
   ]
  },
  {
   "cell_type": "markdown",
   "metadata": {},
   "source": [
    "## Part 1B: Estimate class-conditional likelihoods (10 marks)\n",
    "Define a function called `estimate_log_class_conditional_likelihoods()` that takes as input a data set with binary response variable (0s and 1s) in the left-most column and returns **the logarithm** of the empirical class-conditional likelihoods $log(P(w_i | c_j))$ for all words $w_i$ and both classes ($j \\in {0, 1}$). These parameters should be returned in a two-dimensional numpy-array with shape = `[num_classes, num_features]`.\n",
    "\n",
    "Assume a multinomial feature distribution and use Laplace smoothing with $\\alpha = 1$. \n",
    "\n",
    "Hint: many `numpy`-functions contain an `axis` argument. If you specify `axis=0`, you can perform column-wise (that is, feature-wise!) computations."
   ]
  },
  {
   "cell_type": "code",
   "execution_count": 12,
   "metadata": {
    "collapsed": true,
    "deletable": false,
    "nbgrader": {
     "checksum": "cb5d42f2293bb3929365b535540241a6",
     "grade": false,
     "grade_id": "cell-717db5f875274543",
     "locked": false,
     "schema_version": 1,
     "solution": true
    }
   },
   "outputs": [],
   "source": [
    "def estimate_log_class_conditional_likelihoods(data, alpha=1.0):\n",
    "    \"\"\"\n",
    "    Given a data set with binary response variable (0s and 1s) in the\n",
    "    left-most column and binary features, calculate the empirical\n",
    "    class-conditional likelihoods, that is,\n",
    "    log(P(w_i | c_j)) for all features i and both classes (j in {0, 1}).\n",
    "\n",
    "    Assume a multinomial feature distribution and use Laplace smoothing\n",
    "    if alpha > 0.\n",
    "\n",
    "    :param data: a two-dimensional numpy-array with shape = [n_samples, n_features]\n",
    "\n",
    "    :return theta:\n",
    "        a numpy array of shape = [2, n_features]. theta[j, i] corresponds to the\n",
    "        logarithm of the probability of feature i appearing in a sample belonging \n",
    "        to class j.\n",
    "    \"\"\"\n",
    "    \n",
    "    k = len(data[0,:]) - 1                         # number of features (key-words)\n",
    "    \n",
    "    f_spam = data[data[:,0] == 1][:,1:]      # features when class == spam(1)\n",
    "    f_ham = data[data[:,0] == 0][:,1:]       # features when class == ham(0)\n",
    "    \n",
    "    n_spam = (f_spam == 1).sum()             # the total count of words for all messages of class spam(1)\n",
    "    n_ham =  (f_ham == 1).sum()              # the total count of words for all messages of class ham(0)\n",
    "    \n",
    "    theta = np.zeros((2,k))               # a two-dimensional numpy-array with shape = [2, n_features]\n",
    "\n",
    "    for n in range(k):      # iterate throw all words(fearures)\n",
    "        # n_spam_w is the number of times the word  w  appears in messages of class  spam  in the training set\n",
    "        n_spam_w =  (f_spam[:,n] == 1).sum()\n",
    "        # n_ham_w is the number of times the word  w  appears in messages of class  ham  in the training set\n",
    "        n_ham_w =  (f_ham[:,n] == 1).sum()\n",
    "        \n",
    "        #Laplace-smoothing\n",
    "        theta[0,n] = np.log((n_spam_w + alpha) / (n_spam + k * alpha))\n",
    "        theta[1,n] = np.log((n_ham_w + alpha) / (n_ham + k * alpha))\n",
    "    \n",
    "    return theta\n"
   ]
  },
  {
   "cell_type": "code",
   "execution_count": 13,
   "metadata": {
    "collapsed": true,
    "deletable": false,
    "editable": false,
    "nbgrader": {
     "checksum": "f339a9efd8aae50fb2dedbe175cbfdd5",
     "grade": true,
     "grade_id": "cell-851fa744923a9bba",
     "locked": true,
     "points": 10,
     "schema_version": 1,
     "solution": false
    }
   },
   "outputs": [],
   "source": [
    "# This is a test cell. Do not delete or change. \n",
    "# You can use this cell to check whether the returned objects of your function are of the right data type.\n",
    "log_class_conditional_likelihoods = estimate_log_class_conditional_likelihoods(training_spam, alpha=1.0)\n",
    "\n",
    "# Check data type(s)\n",
    "assert(isinstance(log_class_conditional_likelihoods, np.ndarray))\n",
    "\n",
    "# Check shape of numpy array\n",
    "assert(log_class_conditional_likelihoods.shape == (2, 54))\n",
    "\n",
    "# Check data type of array elements\n",
    "assert(log_class_conditional_likelihoods.dtype == float)\n"
   ]
  },
  {
   "cell_type": "markdown",
   "metadata": {},
   "source": [
    "## Part  1C: Classify e-mails (10 marks)\n",
    "\n",
    "Having calculated the log class priors and the log class-conditional likelihoods for a given training set, define a function called `predict()`that takes a data set of new messages as input and predicts for each message whether it is spam or not. Note that the input should **not** contain a response variable.\n",
    "\n",
    "Use your `predict()` function to classify the messages of your **training data set** `training_spam`. Compute the accuracy of your algorithm _in the training set_ by comparing your predictions to the true class values. Accuracy is simply defined as the proportion of true predictions made by your classifier. Store the accuracy of your naïve Bayes algorithm in a variable called `training_set_accuracy`."
   ]
  },
  {
   "cell_type": "code",
   "execution_count": 14,
   "metadata": {
    "deletable": false,
    "nbgrader": {
     "checksum": "a0607f6de9b1318ea89ecf982e1bbaa9",
     "grade": false,
     "grade_id": "cell-28f019cd03547bb7",
     "locked": false,
     "schema_version": 1,
     "solution": true
    }
   },
   "outputs": [
    {
     "data": {
      "text/plain": [
       "0.892"
      ]
     },
     "execution_count": 14,
     "metadata": {},
     "output_type": "execute_result"
    }
   ],
   "source": [
    "def predict(new_data, log_class_priors, log_class_conditional_likelihoods):\n",
    "    \"\"\"\n",
    "    Given a new data set with binary features, predict the corresponding\n",
    "    response for each instance (row) of the new_data set.\n",
    "\n",
    "    :param new_data: a two-dimensional numpy-array with shape = [n_test_samples, n_features].\n",
    "    :param log_class_priors: a numpy array of length 2.\n",
    "    :param log_class_conditional_likelihoods: a numpy array of shape = [2, n_features].\n",
    "        theta[j, i] corresponds to the logarithm of the probability of feature i appearing\n",
    "        in a sample belonging to class j.\n",
    "    :return class_predictions: a numpy array containing the class predictions for each row\n",
    "        of new_data.\n",
    "    \"\"\"\n",
    "    \n",
    "    \n",
    "    k = len(new_data[0,:])                  # number of features (key-words)\n",
    "    samples = new_data.shape[0]             # number of samples (messages)\n",
    "    \n",
    "    class_predictions = np.zeros(samples)   # create class_predictions numpy-array\n",
    "    \n",
    "    # calculte prediction using Naïve Bayes with numerical stability\n",
    "    for n in range(samples):\n",
    "        c_spam = log_class_priors[0]\n",
    "        c_ham = log_class_priors[1]\n",
    "        for i in range(k):\n",
    "            c_spam = c_spam + new_data[n,i] * log_class_conditional_likelihoods[0,i]\n",
    "            c_ham = c_ham + new_data[n,i] * log_class_conditional_likelihoods[1,i]\n",
    "        #if-else to get argmax\n",
    "        if c_spam >= c_ham: \n",
    "            c = 1\n",
    "        else:\n",
    "            c = 0\n",
    "        class_predictions[n] = c\n",
    "    \n",
    "    return class_predictions\n",
    "\n",
    "def accuracy(y_predictions, y_true):\n",
    "    \"\"\"\n",
    "    Calculate the accuracy.\n",
    "    \n",
    "    :param y_predictions: a one-dimensional numpy array of predicted classes (0s and 1s).\n",
    "    :param y_true: a one-dimensional numpy array of true classes (0s and 1s).\n",
    "    \n",
    "    :return acc: a float between 0 and 1 \n",
    "    \"\"\"\n",
    "    \n",
    "    samples = y_predictions.shape[0]   # number of samples (messages)\n",
    "    \n",
    "    right_des = 0\n",
    "    for n in range(samples):\n",
    "        if abs(y_predictions[n] - y_true[n]) < 0.0001:\n",
    "            right_des = right_des + 1\n",
    "    \n",
    "    acc = right_des/samples\n",
    "    \n",
    "    return acc\n",
    "    \n",
    "# training_set_accuracy = 0.892\n",
    "\n",
    "log_class_priors = estimate_log_class_priors(training_spam)\n",
    "log_class_conditional_likelihoods = estimate_log_class_conditional_likelihoods(training_spam)\n",
    "y_predictions = predict(training_spam[:,1:], log_class_priors, log_class_conditional_likelihoods)\n",
    "y_true = training_spam[:,0]\n",
    "acc = accuracy(y_predictions, y_true)\n",
    "acc\n",
    "# training_set_accuracy = 0.892"
   ]
  },
  {
   "cell_type": "code",
   "execution_count": 15,
   "metadata": {
    "collapsed": true,
    "deletable": false,
    "editable": false,
    "nbgrader": {
     "checksum": "e2352476945f08f15e42cb0e94c070ad",
     "grade": true,
     "grade_id": "cell-4c8adaa150209180",
     "locked": true,
     "points": 10,
     "schema_version": 1,
     "solution": false
    }
   },
   "outputs": [],
   "source": [
    "# This is a test cell. Do not delete or change. \n",
    "# You can use this cell to check whether the returned objects of your function are of the right data type.\n",
    "class_predictions = predict(training_spam[:, 1:], log_class_priors, log_class_conditional_likelihoods)\n",
    "\n",
    "# Check data type(s)\n",
    "assert(isinstance(class_predictions, np.ndarray))\n",
    "\n",
    "# Check shape of numpy array\n",
    "assert(class_predictions.shape == (1000,))\n",
    "\n",
    "# Check data type of array elements\n",
    "assert(np.all(np.logical_or(class_predictions == 0, class_predictions == 1)))\n",
    "       \n",
    "# Check accuracy function\n",
    "true_classes = training_spam[:, 0]\n",
    "training_set_accuracy = accuracy(class_predictions, true_classes)\n",
    "assert(isinstance(training_set_accuracy, float))\n",
    "assert(0 <= training_set_accuracy <= 1)\n"
   ]
  },
  {
   "cell_type": "markdown",
   "metadata": {},
   "source": [
    "## Part 1D: Classifying previously unseen data (10 marks).\n",
    "The following cell loads a new set of 500 messages."
   ]
  },
  {
   "cell_type": "code",
   "execution_count": 16,
   "metadata": {},
   "outputs": [
    {
     "name": "stdout",
     "output_type": "stream",
     "text": [
      "Shape of the testing spam data set: (500, 55)\n"
     ]
    },
    {
     "data": {
      "text/plain": [
       "array([[ 1.,  0.,  0., ...,  1.,  1.,  1.],\n",
       "       [ 1.,  1.,  0., ...,  1.,  1.,  1.],\n",
       "       [ 0.,  0.,  0., ...,  0.,  0.,  0.],\n",
       "       ..., \n",
       "       [ 0.,  0.,  0., ...,  0.,  0.,  0.],\n",
       "       [ 0.,  0.,  0., ...,  1.,  0.,  0.],\n",
       "       [ 0.,  0.,  0., ...,  1.,  0.,  0.]])"
      ]
     },
     "execution_count": 16,
     "metadata": {},
     "output_type": "execute_result"
    }
   ],
   "source": [
    "testing_spam = np.loadtxt(open(\"data/testing_spam.csv\"), delimiter=\",\")\n",
    "print(\"Shape of the testing spam data set:\", testing_spam.shape)\n",
    "testing_spam"
   ]
  },
  {
   "cell_type": "markdown",
   "metadata": {},
   "source": [
    "Use the naïve Bayes algorithm that you trained on `training_spam` in order to classify all messages in the `testing_spam` data set. Store the resulting accuracy in a variable called `testing_set_accuracy`."
   ]
  },
  {
   "cell_type": "code",
   "execution_count": 17,
   "metadata": {
    "deletable": false,
    "nbgrader": {
     "checksum": "20ca424a81250cfca53ffa68c90a303d",
     "grade": false,
     "grade_id": "cell-fc141a44a0e708b1",
     "locked": false,
     "schema_version": 1,
     "solution": true
    }
   },
   "outputs": [
    {
     "data": {
      "text/plain": [
       "0.838"
      ]
     },
     "execution_count": 17,
     "metadata": {},
     "output_type": "execute_result"
    }
   ],
   "source": [
    "y_predictions = predict(testing_spam[:,1:], log_class_priors, log_class_conditional_likelihoods)\n",
    "y_true = testing_spam[:,0]\n",
    "acc = accuracy(y_predictions, y_true)\n",
    "acc\n",
    "# testing_set_accuracy = 0.838"
   ]
  },
  {
   "cell_type": "code",
   "execution_count": 18,
   "metadata": {
    "collapsed": true,
    "deletable": false,
    "editable": false,
    "nbgrader": {
     "checksum": "d89ad23b0827be47fd700442b2b7495c",
     "grade": true,
     "grade_id": "cell-e8b67052cb121115",
     "locked": true,
     "points": 10,
     "schema_version": 1,
     "solution": false
    }
   },
   "outputs": [],
   "source": [
    "# This is a test cell. Do not delete or change."
   ]
  },
  {
   "cell_type": "code",
   "execution_count": 19,
   "metadata": {},
   "outputs": [
    {
     "name": "stdout",
     "output_type": "stream",
     "text": [
      "Accuracy of training set = 0.892\n",
      "Accuracy of testing set = 0.838\n"
     ]
    }
   ],
   "source": [
    "#To make sure the answer is right\n",
    "#solution using sk-learn library\n",
    "from sklearn.naive_bayes import MultinomialNB\n",
    "clf = MultinomialNB()\n",
    "clf.fit(training_spam[:,1:], training_spam[:,0])\n",
    "\n",
    "y_predictions = clf.predict(training_spam[:,1:])\n",
    "y_true = training_spam[:,0]\n",
    "acc = accuracy(y_predictions, y_true)\n",
    "print(\"Accuracy of training set = {}\".format(acc))\n",
    "\n",
    "y_predictions = clf.predict(testing_spam[:,1:])\n",
    "y_true = testing_spam[:,0]\n",
    "acc_test = accuracy(y_predictions, y_true)\n",
    "print(\"Accuracy of testing set = {}\".format(acc_test))"
   ]
  },
  {
   "cell_type": "markdown",
   "metadata": {},
   "source": [
    "## Part 1E: Discussion (5 marks).\n"
   ]
  },
  {
   "cell_type": "markdown",
   "metadata": {
    "deletable": false,
    "nbgrader": {
     "checksum": "76ad4c938cfef7436ef6bc16eb732a8b",
     "grade": true,
     "grade_id": "cell-3e35b05a08d8d3af",
     "locked": false,
     "points": 5,
     "schema_version": 1,
     "solution": true
    }
   },
   "source": [
    "In 3 sentences or less: Compare the accuracy of your classifier on the training set and on the test set. Are they different? If yes, how do you explain the difference?\n",
    "\n",
    "Answer:\n",
    "Yes, they are different, the training set accuracy was higher than the testing set accuracy, the reason why they are different is because they are totaltly different data set so it is obvious that the model prediction for two different data-set would be different, the reason why the training set accuracy is higher because it was trained with it and seen before be the system whereas the testing set is firstly seen by the model.\n"
   ]
  },
  {
   "cell_type": "markdown",
   "metadata": {
    "collapsed": true
   },
   "source": [
    "# Part 2: Zero or One? (55 marks)\n",
    "\n",
    "In this part of the coursework, you will develop a classifier for a different problem. All you will be given about this problem is a training data set. Your objective is to develop a classifier that will have the highest accuracy in unseen examples.\n",
    "\n",
    "The following cell loads the training data set."
   ]
  },
  {
   "cell_type": "code",
   "execution_count": 2,
   "metadata": {},
   "outputs": [
    {
     "name": "stdout",
     "output_type": "stream",
     "text": [
      "Shape of the training data set: (5000, 39)\n",
      "[[ 0.  1.  1. ...,  0.  0.  0.]\n",
      " [ 1.  0.  1. ...,  0.  1.  0.]\n",
      " [ 1.  1.  1. ...,  1.  0.  0.]\n",
      " ..., \n",
      " [ 0.  0.  1. ...,  0.  1.  0.]\n",
      " [ 1.  0.  1. ...,  0.  1.  0.]\n",
      " [ 1.  1.  0. ...,  0.  0.  0.]]\n"
     ]
    }
   ],
   "source": [
    "import numpy as np\n",
    "\n",
    "training_data = np.loadtxt(open(\"data/training_data_part_2.csv\"), delimiter=\",\")\n",
    "print(\"Shape of the training data set:\", training_data.shape)\n",
    "print(training_data)"
   ]
  },
  {
   "cell_type": "markdown",
   "metadata": {},
   "source": [
    "The first column is again the response variable. The remaining 38 columns are binary features. You have multiple tasks:\n",
    "\n",
    "(1) Your first task is to write a function called `train()` that takes `training_data` as input and returns all the fitted parameters of your model. Note that the fitted parameters of your model depend on the model you choose. For example, if you use a naïve Bayes classifier, you could return a list of class priors and conditional likelihoods. (This function will allow us to compute your model on the fly. We should be able to execute it in less than 10 minutes.) \n",
    "\n",
    "(2) Your second task is to provide a variable called `fitted_model` which stores the model parameters you found by executing your train() function on the training_data. If your train function takes more than 20 seconds to run, this variable should load precomputed parameter values (possibly from a file) rather than execute the train() function. "
   ]
  },
  {
   "cell_type": "code",
   "execution_count": 3,
   "metadata": {
    "deletable": false,
    "nbgrader": {
     "checksum": "98502b22b7569c3888bbea2dae89e8a6",
     "grade": false,
     "grade_id": "cell-9284ab8e9721ffc2",
     "locked": false,
     "schema_version": 1,
     "solution": true
    }
   },
   "outputs": [
    {
     "name": "stdout",
     "output_type": "stream",
     "text": [
      "Time taken by the function train is 0.036002159118652344 s\n"
     ]
    }
   ],
   "source": [
    "import time\n",
    "\n",
    "def train(training_data):\n",
    "    \"\"\"\n",
    "    Train a model on the training_data\n",
    "\n",
    "    :param training_data: a two-dimensional numpy-array with shape = [5000, 39] \n",
    "    \n",
    "    :return fitted_model: any data structure that captures your model\n",
    "    \"\"\"\n",
    "    # using naïve Bayes classifier\n",
    "    # Calculting fitted paramaters of naïve Bayes classifier \n",
    "    \n",
    "    # calculte the time taken by the function using t_start, t_end \n",
    "    t_start = time.time()\n",
    "    \n",
    "    # 1- Calculting log_class_priors\n",
    "    \n",
    "    response_variable = training_data[:,0]  #get the left-most column to the varable 'response_variable'\n",
    "    total_n = len(response_variable)        #get the total number of samples (messages)\n",
    "    \n",
    "    num_ones = (response_variable == 1).sum()  # the total number of spam(1)\n",
    "    num_zeros = (response_variable == 0).sum() # the total number of ham(0)\n",
    "    \n",
    "    p_c_1 = num_ones/total_n   # (P(C=1))\n",
    "    p_c_0 = num_zeros/total_n  # (P(C=0))\n",
    "    \n",
    "    log_class_priors = np.array([np.log(p_c_1), np.log(p_c_0)]) # [log(P(C=1)), log(P(C=0))]\n",
    "    \n",
    "    # 2- Calculting log_class_conditional_likelihoods\n",
    "    \n",
    "    alpha = 1.0\n",
    "    k = len(training_data[0,:]) - 1                            # number of features (key-words)\n",
    "    \n",
    "    f_spam = training_data[training_data[:,0] == 1][:,1:]      # features when class == spam(1)\n",
    "    f_ham = training_data[training_data[:,0] == 0][:,1:]       # features when class == ham(0)\n",
    "    \n",
    "    n_spam = (f_spam == 1).sum()             # the total count of words for all messages of class spam(1)\n",
    "    n_ham =  (f_ham == 1).sum()              # the total count of words for all messages of class ham(0)\n",
    "    \n",
    "    theta = np.zeros((2,k))      # a two-dimensional numpy-array with shape = [2, n_features]\n",
    "\n",
    "    for n in range(k):       # iterate throw all words(fearures)\n",
    "        # n_spam_w is the number of times the word  w  appears in messages of class  spam  in the training set\n",
    "        n_spam_w =  (f_spam[:,n] == 1).sum()\n",
    "        # n_ham_w is the number of times the word  w  appears in messages of class  ham  in the training set\n",
    "        n_ham_w =  (f_ham[:,n] == 1).sum()\n",
    "        \n",
    "        #Laplace-smoothing\n",
    "        theta[0,n] = np.log((n_spam_w + alpha) / (n_spam + k * alpha))\n",
    "        theta[1,n] = np.log((n_ham_w + alpha) / (n_ham + k * alpha))\n",
    "        \n",
    "    \n",
    "    # shape of fitted_model\n",
    "    # log_class_priors: a numpy array of length two\n",
    "    # theta: a numpy array of shape = [2, n_features].\n",
    "    # so shape of fitted_model would be = [3, n_features].\n",
    "    # where the first two will contain theta, and the third one will contain log_class_priors with rst of the raw equal zero\n",
    "    fitted_model = np.zeros((3,k))      # a two-dimensional numpy-array with shape = [2, n_features]\n",
    "    fitted_model[:2,:] = theta\n",
    "    fitted_model[2,:2] = log_class_priors\n",
    "    \n",
    "    \n",
    "    # get the final time and calculte time difference to get time_lapse \n",
    "    t_end = time.time()\n",
    "    time_lapse = t_end - t_start\n",
    "    print(\"Time taken by the function train is {} s\".format(time_lapse))\n",
    "    \n",
    "    return fitted_model\n",
    "\n",
    "## Uncomment one of the following two lines depending on whether you want us to compute your model on the \n",
    "## fly or load a supplementary file.\n",
    "\n",
    "fitted_model = train(training_data)\n",
    "# fitted_model = load(local_file)"
   ]
  },
  {
   "cell_type": "markdown",
   "metadata": {},
   "source": [
    "(3) Your third task is to provide a function called `test()` that uses your `fitted_model` to classify the observations of `testing_data`. The `testing_data` is hidden and may contain any number of observations (rows). It contains 38 columns that have the same structure as the features of `training_data`. "
   ]
  },
  {
   "cell_type": "code",
   "execution_count": 24,
   "metadata": {
    "collapsed": true,
    "deletable": false,
    "nbgrader": {
     "checksum": "8547b4673b0548ddd786722f367268a4",
     "grade": false,
     "grade_id": "cell-b62974b058e95e23",
     "locked": false,
     "schema_version": 1,
     "solution": true
    }
   },
   "outputs": [],
   "source": [
    "def test(testing_data, fitted_model):\n",
    "    \"\"\"\n",
    "    Classify the rows of testing_data using a fitted_model. \n",
    "\n",
    "    :param testing_data: a two-dimensional numpy-array with shape = [n_test_samples, 38]\n",
    "    :param fitted_model: the output of your train function.\n",
    "\n",
    "    :return class_predictions: a numpy array containing the class predictions for each row\n",
    "        of testing_data.\n",
    "    \"\"\"\n",
    "    # extract log_class_priors and log_class_conditional_likelihoods from fitted_model\n",
    "    log_class_priors = fitted_model[2,:2]\n",
    "    log_class_conditional_likelihoods = fitted_model[:2,:]\n",
    "    \n",
    "    k = len(testing_data[0,:])                  # number of features (key-words)\n",
    "    samples = testing_data.shape[0]             # number of samples (messages)\n",
    "    \n",
    "    class_predictions = np.zeros(samples)\n",
    "    \n",
    "    for n in range(samples):\n",
    "        c_spam = log_class_priors[0]\n",
    "        c_ham = log_class_priors[1]\n",
    "        for i in range(k):\n",
    "            c_spam = c_spam + testing_data[n,i] * log_class_conditional_likelihoods[0,i]\n",
    "            c_ham = c_ham + testing_data[n,i] * log_class_conditional_likelihoods[1,i]\n",
    "        if c_spam >= c_ham:\n",
    "            c = 1\n",
    "        else:\n",
    "            c = 0\n",
    "        class_predictions[n] = c\n",
    "    \n",
    "    return class_predictions"
   ]
  },
  {
   "cell_type": "code",
   "execution_count": 23,
   "metadata": {
    "collapsed": true,
    "deletable": false,
    "editable": false,
    "nbgrader": {
     "checksum": "8e632be3b415f26b688aaf8da8354865",
     "grade": true,
     "grade_id": "cell-d6503e588628ad10",
     "locked": true,
     "points": 0,
     "schema_version": 1,
     "solution": false
    }
   },
   "outputs": [],
   "source": [
    "# This is a test cell. Do not delete or change. \n",
    "# You can use this cell to check whether the returned objects of your function are of the right data type.\n",
    "\n",
    "# Test data types if input are the first 20 rows of the training_data.\n",
    "class_predictions = test(training_data[:20, 1:], fitted_model)\n",
    "\n",
    "# Check data type(s)\n",
    "assert(isinstance(class_predictions, np.ndarray))\n",
    "\n",
    "# Check shape of numpy array\n",
    "assert(class_predictions.shape == (20,))\n",
    "\n",
    "# Check data type of array elements\n",
    "assert(np.all(np.logical_or(class_predictions == 0, class_predictions == 1)))\n"
   ]
  },
  {
   "cell_type": "markdown",
   "metadata": {
    "deletable": false,
    "nbgrader": {
     "checksum": "4c72e9d23d320745c0b4971d557c7ab3",
     "grade": true,
     "grade_id": "cell-1d336f7ffecd8f71",
     "locked": false,
     "points": 55,
     "schema_version": 1,
     "solution": true
    }
   },
   "source": [
    "Describe in less than 10 sentences: Explain your classifier. Comment on its performance. What other alternative classifiers did you consider or experiment with? How does the performance of your classifier change as the size of the training set increases? You may want to include figures. \n",
    "\n",
    "The Answer\n",
    "\n"
   ]
  },
  {
   "cell_type": "markdown",
   "metadata": {},
   "source": [
    "Explain your classifier. Comment on its performance."
   ]
  },
  {
   "cell_type": "markdown",
   "metadata": {},
   "source": [
    "I used Naive Bayes classifier so the explanation of the classifer is as before.\n",
    "About the performance the following code find the performance of the classifer.\n",
    "We are going to divide the training set into two parts [2500 used as training set, and 2500 used as test set ] "
   ]
  },
  {
   "cell_type": "code",
   "execution_count": 28,
   "metadata": {},
   "outputs": [
    {
     "name": "stdout",
     "output_type": "stream",
     "text": [
      "Time taken by the function train is 0.031001806259155273\n",
      "Accuracy of training set: 0.881\n",
      "Accuracy of testing set: 0.886\n"
     ]
    }
   ],
   "source": [
    "# using Naive Bayes classifier to find the accuracy of the model for the 5000 data\n",
    "fitted_model = train(training_data[:2500,:])\n",
    "\n",
    "#training set prediction and accuracy\n",
    "y_predictions = test(training_data[:2500,1:], fitted_model)\n",
    "y_true = training_data[:2500,0]\n",
    "acc = accuracy(y_predictions, y_true)\n",
    "print('Accuracy of training set: {:.3f}'.format(acc))\n",
    "# training_set_accuracy = 0.881\n",
    "\n",
    "#testing set prediction and accuracy\n",
    "y_predictions_test_set = test(training_data[2500:,1:], fitted_model)\n",
    "y_true_test_set = training_data[2500:,0]\n",
    "acc_test_set = accuracy(y_predictions_test_set, y_true_test_set)\n",
    "print('Accuracy of testing set: {:.3f}'.format(acc_test_set))\n",
    "# testing_set_accuracy = 0.886"
   ]
  },
  {
   "cell_type": "markdown",
   "metadata": {},
   "source": [
    "about the performance of the clasifer. it is quit good compared to the result of the classifer in the first part, but i did bad compared to other classifer like KNN and SVM."
   ]
  },
  {
   "cell_type": "markdown",
   "metadata": {},
   "source": [
    "How does the performance of your classifier change as the size of the training set increases? You may want to include figures."
   ]
  },
  {
   "cell_type": "code",
   "execution_count": 35,
   "metadata": {},
   "outputs": [
    {
     "data": {
      "image/png": "[encoded data removed]",
      "text/plain": [
       "<matplotlib.figure.Figure at 0x79ad128>"
      ]
     },
     "metadata": {},
     "output_type": "display_data"
    }
   ],
   "source": [
    "# To find out the performance of the classifer as the size of training set increases\n",
    "import matplotlib.pyplot as plt\n",
    "\n",
    "sizes = []\n",
    "accuracies = []\n",
    "for size in range(50, 2500, 50):\n",
    "    sizes.append(size)\n",
    "    fitted_model = train(training_data[:size,:])\n",
    "\n",
    "    #testing set prediction and accuracy\n",
    "    y_predictions_test_set = test(training_data[size:,1:], fitted_model)\n",
    "    y_true_test_set = training_data[size:,0]\n",
    "    acc_test_set = accuracy(y_predictions_test_set, y_true_test_set)\n",
    "    accuracies.append(acc_test_set)\n",
    "    \n",
    "plt.plot(sizes, accuracies)\n",
    "plt.ylabel('Accuracy of the test_set')\n",
    "plt.xlabel('Size of the training set')\n",
    "plt.show()"
   ]
  },
  {
   "cell_type": "markdown",
   "metadata": {},
   "source": [
    "The performance of the classifer increase with increasing the training set, because the model become more generalized and not biased to specific training set."
   ]
  },
  {
   "cell_type": "markdown",
   "metadata": {},
   "source": [
    "Experimentation with alternative classifiers:"
   ]
  },
  {
   "cell_type": "code",
   "execution_count": 37,
   "metadata": {},
   "outputs": [
    {
     "name": "stdout",
     "output_type": "stream",
     "text": [
      "using Nearest Neighbors:\n",
      "Accuracy of training set: 0.972\n",
      "-----------\n",
      "using Linear SVM:\n",
      "Accuracy of training set: 0.928\n",
      "-----------\n",
      "using RBF SVM:\n",
      "Accuracy of training set: 0.990\n",
      "-----------\n",
      "using Decision Tree:\n",
      "Accuracy of training set: 0.921\n",
      "-----------\n",
      "using Random Forest:\n",
      "Accuracy of training set: 0.841\n",
      "-----------\n",
      "using Neural Net:\n",
      "Accuracy of training set: 0.939\n",
      "-----------\n",
      "using AdaBoost:\n",
      "Accuracy of training set: 0.933\n",
      "-----------\n",
      "using QDA:\n",
      "Accuracy of training set: 0.592\n",
      "-----------\n"
     ]
    },
    {
     "name": "stderr",
     "output_type": "stream",
     "text": [
      "d:\\ProgramData\\Anaconda3\\lib\\site-packages\\sklearn\\discriminant_analysis.py:695: UserWarning: Variables are collinear\n",
      "  warnings.warn(\"Variables are collinear\")\n"
     ]
    }
   ],
   "source": [
    "from sklearn.neural_network import MLPClassifier\n",
    "from sklearn.neighbors import KNeighborsClassifier\n",
    "from sklearn.svm import SVC\n",
    "from sklearn.gaussian_process.kernels import RBF\n",
    "from sklearn.tree import DecisionTreeClassifier\n",
    "from sklearn.ensemble import RandomForestClassifier, AdaBoostClassifier\n",
    "from sklearn.naive_bayes import GaussianNB\n",
    "from sklearn.discriminant_analysis import QuadraticDiscriminantAnalysis\n",
    "\n",
    "names = [\"Nearest Neighbors\", \"Linear SVM\", \"RBF SVM\",\n",
    "         \"Decision Tree\", \"Random Forest\", \"Neural Net\", \"AdaBoost\", \"QDA\"]\n",
    "\n",
    "classifiers = [\n",
    "    KNeighborsClassifier(3),\n",
    "    SVC(kernel=\"linear\", C=0.025),\n",
    "    SVC(gamma=2, C=1),\n",
    "    DecisionTreeClassifier(max_depth=5),\n",
    "    RandomForestClassifier(max_depth=5, n_estimators=10, max_features=1),\n",
    "    MLPClassifier(alpha=1),\n",
    "    AdaBoostClassifier(),\n",
    "    QuadraticDiscriminantAnalysis()]\n",
    "\n",
    "X = training_data[:,1:]\n",
    "y = training_data[:,0]\n",
    "\n",
    "for name, svm1 in zip(names, classifiers):\n",
    "        svm1.fit(X, y)\n",
    "        print('using {}:' .format(name))\n",
    "        print('Accuracy of training set: {:.3f}'.format(svm1.score(X, y)))\n",
    "        print('-----------')"
   ]
  }
 ],
 "metadata": {
  "kernelspec": {
   "display_name": "Python 3",
   "language": "python",
   "name": "python3"
  },
  "language_info": {
   "codemirror_mode": {
    "name": "ipython",
    "version": 3
   },
   "file_extension": ".py",
   "mimetype": "text/x-python",
   "name": "python",
   "nbconvert_exporter": "python",
   "pygments_lexer": "ipython3",
   "version": "3.6.1"
  }
 },
 "nbformat": 4,
 "nbformat_minor": 2
}
